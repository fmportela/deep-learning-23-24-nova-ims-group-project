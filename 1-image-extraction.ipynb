{
 "cells": [
  {
   "cell_type": "markdown",
   "metadata": {},
   "source": [
    "### **Deep Learning Group Project 23-24**\n",
    "\n",
    "##### **Group 5**\n",
    "\n",
    "**Elements**:\n",
    "- Frederico Portela | R20181072 | r20181072@novaims.unl.pt\n",
    "- Samuel Santos | 20220609 | 20220609@novaims.unl.pt\n",
    "- Afonso Gorjão | 20230575 | 20230575@novaims.unl.pt\n",
    "- Pedro Carvalho | 20230554 | 20230554@novaims.unl.pt\n",
    "- Francisco Campos | 20230565 | 20250565@novaims.unl.pt\n",
    "\n",
    "\n",
    "**In this notebook:**\n",
    "1. Data Extraction from raw file.\n",
    "\n",
    "**Index**\n",
    "1. [Library imports](#library_imports)\n",
    "2. [Data import](#data_import)\n",
    "3. [Missing values](#missing_values)\n",
    "4. [Checking ID variable](#check_id)\n",
    "5. [Fixing URLs](#fixing_url)\n",
    "6. [Removing nulls](#remove_nulls)\n",
    "7. [Storing in TF-allowed way](#storing)"
   ]
  },
  {
   "cell_type": "markdown",
   "metadata": {},
   "source": [
    "#### **Library imports**<a id='library_imports'></a>"
   ]
  },
  {
   "cell_type": "code",
   "execution_count": 1,
   "metadata": {},
   "outputs": [],
   "source": [
    "import os\n",
    "import pandas as pd\n",
    "import numpy as np\n",
    "import matplotlib.pyplot as plt\n",
    "\n",
    "from PIL import Image\n",
    "import requests\n",
    "from io import BytesIO\n",
    "from tqdm import tqdm  # progess bar (eventually remove)"
   ]
  },
  {
   "cell_type": "markdown",
   "metadata": {},
   "source": [
    "#### **Data import**<a id='data_import'></a>"
   ]
  },
  {
   "cell_type": "code",
   "execution_count": 3,
   "metadata": {},
   "outputs": [
    {
     "name": "stdout",
     "output_type": "stream",
     "text": [
      "Shape: (16577, 9)\n",
      "\n"
     ]
    },
    {
     "data": {
      "text/html": [
       "<div>\n",
       "<style scoped>\n",
       "    .dataframe tbody tr th:only-of-type {\n",
       "        vertical-align: middle;\n",
       "    }\n",
       "\n",
       "    .dataframe tbody tr th {\n",
       "        vertical-align: top;\n",
       "    }\n",
       "\n",
       "    .dataframe thead th {\n",
       "        text-align: right;\n",
       "    }\n",
       "</style>\n",
       "<table border=\"1\" class=\"dataframe\">\n",
       "  <thead>\n",
       "    <tr style=\"text-align: right;\">\n",
       "      <th></th>\n",
       "      <th>md5hash</th>\n",
       "      <th>fitzpatrick_scale</th>\n",
       "      <th>fitzpatrick_centaur</th>\n",
       "      <th>label</th>\n",
       "      <th>nine_partition_label</th>\n",
       "      <th>three_partition_label</th>\n",
       "      <th>qc</th>\n",
       "      <th>url</th>\n",
       "      <th>url_alphanum</th>\n",
       "    </tr>\n",
       "  </thead>\n",
       "  <tbody>\n",
       "    <tr>\n",
       "      <th>0</th>\n",
       "      <td>5e82a45bc5d78bd24ae9202d194423f8</td>\n",
       "      <td>3</td>\n",
       "      <td>3</td>\n",
       "      <td>drug induced pigmentary changes</td>\n",
       "      <td>inflammatory</td>\n",
       "      <td>non-neoplastic</td>\n",
       "      <td>NaN</td>\n",
       "      <td>https://www.dermaamin.com/site/images/clinical...</td>\n",
       "      <td>httpwwwdermaamincomsiteimagesclinicalpicmminoc...</td>\n",
       "    </tr>\n",
       "    <tr>\n",
       "      <th>1</th>\n",
       "      <td>fa2911a9b13b6f8af79cb700937cc14f</td>\n",
       "      <td>1</td>\n",
       "      <td>1</td>\n",
       "      <td>photodermatoses</td>\n",
       "      <td>inflammatory</td>\n",
       "      <td>non-neoplastic</td>\n",
       "      <td>NaN</td>\n",
       "      <td>https://www.dermaamin.com/site/images/clinical...</td>\n",
       "      <td>httpwwwdermaamincomsiteimagesclinicalpicpphoto...</td>\n",
       "    </tr>\n",
       "    <tr>\n",
       "      <th>2</th>\n",
       "      <td>d2bac3c9e4499032ca8e9b07c7d3bc40</td>\n",
       "      <td>2</td>\n",
       "      <td>3</td>\n",
       "      <td>dermatofibroma</td>\n",
       "      <td>benign dermal</td>\n",
       "      <td>benign</td>\n",
       "      <td>NaN</td>\n",
       "      <td>https://www.dermaamin.com/site/images/clinical...</td>\n",
       "      <td>httpwwwdermaamincomsiteimagesclinicalpicdderma...</td>\n",
       "    </tr>\n",
       "    <tr>\n",
       "      <th>3</th>\n",
       "      <td>0a94359e7eaacd7178e06b2823777789</td>\n",
       "      <td>1</td>\n",
       "      <td>1</td>\n",
       "      <td>psoriasis</td>\n",
       "      <td>inflammatory</td>\n",
       "      <td>non-neoplastic</td>\n",
       "      <td>NaN</td>\n",
       "      <td>https://www.dermaamin.com/site/images/clinical...</td>\n",
       "      <td>httpwwwdermaamincomsiteimagesclinicalpicppsori...</td>\n",
       "    </tr>\n",
       "    <tr>\n",
       "      <th>4</th>\n",
       "      <td>a39ec3b1f22c08a421fa20535e037bba</td>\n",
       "      <td>1</td>\n",
       "      <td>1</td>\n",
       "      <td>psoriasis</td>\n",
       "      <td>inflammatory</td>\n",
       "      <td>non-neoplastic</td>\n",
       "      <td>NaN</td>\n",
       "      <td>https://www.dermaamin.com/site/images/clinical...</td>\n",
       "      <td>httpwwwdermaamincomsiteimagesclinicalpicppsori...</td>\n",
       "    </tr>\n",
       "  </tbody>\n",
       "</table>\n",
       "</div>"
      ],
      "text/plain": [
       "                            md5hash  fitzpatrick_scale  fitzpatrick_centaur  \\\n",
       "0  5e82a45bc5d78bd24ae9202d194423f8                  3                    3   \n",
       "1  fa2911a9b13b6f8af79cb700937cc14f                  1                    1   \n",
       "2  d2bac3c9e4499032ca8e9b07c7d3bc40                  2                    3   \n",
       "3  0a94359e7eaacd7178e06b2823777789                  1                    1   \n",
       "4  a39ec3b1f22c08a421fa20535e037bba                  1                    1   \n",
       "\n",
       "                             label nine_partition_label three_partition_label  \\\n",
       "0  drug induced pigmentary changes         inflammatory        non-neoplastic   \n",
       "1                  photodermatoses         inflammatory        non-neoplastic   \n",
       "2                   dermatofibroma        benign dermal                benign   \n",
       "3                        psoriasis         inflammatory        non-neoplastic   \n",
       "4                        psoriasis         inflammatory        non-neoplastic   \n",
       "\n",
       "    qc                                                url  \\\n",
       "0  NaN  https://www.dermaamin.com/site/images/clinical...   \n",
       "1  NaN  https://www.dermaamin.com/site/images/clinical...   \n",
       "2  NaN  https://www.dermaamin.com/site/images/clinical...   \n",
       "3  NaN  https://www.dermaamin.com/site/images/clinical...   \n",
       "4  NaN  https://www.dermaamin.com/site/images/clinical...   \n",
       "\n",
       "                                        url_alphanum  \n",
       "0  httpwwwdermaamincomsiteimagesclinicalpicmminoc...  \n",
       "1  httpwwwdermaamincomsiteimagesclinicalpicpphoto...  \n",
       "2  httpwwwdermaamincomsiteimagesclinicalpicdderma...  \n",
       "3  httpwwwdermaamincomsiteimagesclinicalpicppsori...  \n",
       "4  httpwwwdermaamincomsiteimagesclinicalpicppsori...  "
      ]
     },
     "metadata": {},
     "output_type": "display_data"
    },
    {
     "name": "stdout",
     "output_type": "stream",
     "text": [
      "\n",
      "Example URL: https://www.dermaamin.com/site/images/clinical-pic/m/minocycline-pigmentation/minocycline-pigmentation1.jpg\n"
     ]
    }
   ],
   "source": [
    "class Metadata:\n",
    "\n",
    "    \"\"\"\n",
    "    Call class for easy access to column metadata.\n",
    "    \"\"\"\n",
    "    \n",
    "    descriptions = {\n",
    "        'md5hash': 'Original ID Column',\n",
    "        'fitzpatrick_scale': 'https://en.wikipedia.org/wiki/Fitzpatrick_scale',\n",
    "        'fitzpatrick_centaur': '...',\n",
    "        'label': 'Target column; skin disease',\n",
    "        'nine_partition_label': '1-level up in granularity',\n",
    "        'three_partition_label': '2-level up in granularity',\n",
    "        'qc': '...',\n",
    "        'url': 'URL of picture of skin condition',\n",
    "        'url_alphanum': 'pseudo-url',\n",
    "    }\n",
    "    \n",
    "    @classmethod\n",
    "    def get_description(cls, column_name):\n",
    "        return cls.descriptions[column_name]\n",
    "\n",
    "rawdata = pd.read_csv('data/fitzpatrick17k.csv')\n",
    "print(f'Shape: {rawdata.shape}')\n",
    "print()\n",
    "display(rawdata.head())\n",
    "print()\n",
    "print(f\"Example URL: {rawdata['url'].iloc[0]}\")"
   ]
  },
  {
   "cell_type": "markdown",
   "metadata": {},
   "source": [
    "#### **Missing values**<a id='missing_values'></a>"
   ]
  },
  {
   "cell_type": "code",
   "execution_count": 4,
   "metadata": {},
   "outputs": [
    {
     "data": {
      "text/plain": [
       "md5hash                      0\n",
       "fitzpatrick_scale            0\n",
       "fitzpatrick_centaur          0\n",
       "label                        0\n",
       "nine_partition_label         0\n",
       "three_partition_label        0\n",
       "qc                       16073\n",
       "url                         41\n",
       "url_alphanum                 0\n",
       "dtype: int64"
      ]
     },
     "metadata": {},
     "output_type": "display_data"
    }
   ],
   "source": [
    "display(rawdata.isnull().sum())\n",
    "\n",
    "# NOTE: there are images with no URL"
   ]
  },
  {
   "cell_type": "markdown",
   "metadata": {},
   "source": [
    "#### **Checking ID variable**<a id='check_id'></a>"
   ]
  },
  {
   "cell_type": "code",
   "execution_count": 7,
   "metadata": {},
   "outputs": [
    {
     "name": "stdout",
     "output_type": "stream",
     "text": [
      "True\n",
      "True\n"
     ]
    }
   ],
   "source": [
    "print(len(rawdata['md5hash'].unique()) == rawdata.shape[0])\n",
    "print(len(rawdata.loc[rawdata['url'].notnull(), 'url'].unique()) == rawdata.loc[rawdata['url'].notnull(), 'url'].shape[0])\n",
    "\n",
    "# hashes and urls are unique\n",
    "\n",
    "# *********************************\n",
    "# Checking label variable\n",
    "# *********************************\n",
    "\n",
    "for i in rawdata['label']:\n",
    "    if i.endswith(' ') | i.startswith(' '):\n",
    "        print(i)\n",
    "\n",
    "# label strings seem fine"
   ]
  },
  {
   "cell_type": "markdown",
   "metadata": {},
   "source": [
    "#### **Fixing URLs**<a id='fixing_url'></a>"
   ]
  },
  {
   "cell_type": "code",
   "execution_count": 6,
   "metadata": {},
   "outputs": [],
   "source": [
    "# example of correct URL: https://www.dermaamin.com/site/images/clinical-pic/m/minocycline-pigmentation/minocycline-pigmentation1.jpg\n",
    "\n",
    "# DO NOT CHANGE ORDER\n",
    "missing_url = [\n",
    "    'httpwwwdermaamincomsiteimagesclinicalpicLLichensimplexchronicusLichensimplexchronicus30jpg.jpg',\n",
    "    'httpwwwdermaamincomsiteimagesclinicalpicooralmucosalmelanomaoralmucosalmelanoma2jpg.jpg',\n",
    "    'httpwwwdermaamincomsiteimagesclinicalpicLLichensimplexchronicusLichensimplexchronicus34jpg.jpg',\n",
    "    'httpwwwdermaamincomsiteimagesclinicalpicLLichensimplexchronicusLichensimplexchronicus36jpg.jpg',\n",
    "    'httpwwwdermaamincomsiteimagesclinicalpicooralmucosalmelanomaoralmucosalmelanoma3jpg.jpg',\n",
    "    'httpwwwdermaamincomsiteimagesclinicalpicLLichensimplexchronicusLichensimplexchronicus24jpg.jpg',\n",
    "    'httpwwwdermaamincomsiteimagesclinicalpicLLichensimplexchronicusLichensimplexchronicus3jpg.jpg',\n",
    "    'httpwwwdermaamincomsiteimageshistopicjjunctionnaevusjunctionnaevus3jpg.jpg',\n",
    "    'httpwwwdermaamincomsiteimagesclinicalpicLLichensimplexchronicusLichensimplexchronicus11jpg.jpg',\n",
    "    'httpwwwdermaamincomsiteimagesclinicalpicLLichensimplexchronicusLichensimplexchronicus35jpg.jpg',\n",
    "    'httpwwwdermaamincomsiteimagesclinicalpicLLichensimplexchronicusLichensimplexchronicus18jpg.jpg',\n",
    "    'httpwwwdermaamincomsiteimagesclinicalpicLLichensimplexchronicusLichensimplexchronicus10jpg.jpg',\n",
    "    'httpwwwdermaamincomsiteimagesclinicalpicLLichensimplexchronicusLichensimplexchronicus28jpg.jpg',\n",
    "    'httpwwwdermaamincomsiteimagesclinicalpicLLichensimplexchronicusLichensimplexchronicus19jpg.jpg',\n",
    "    'httpwwwdermaamincomsiteimagesclinicalpicLLichensimplexchronicusLichensimplexchronicus27jpg.jpg',\n",
    "    'httpwwwdermaamincomsiteimagesclinicalpicLLichensimplexchronicusLichensimplexchronicus4jpg.jpg',\n",
    "    'httpwwwdermaamincomsiteimagesclinicalpicLLichensimplexchronicusLichensimplexchronicus1jpg.jpg',\n",
    "    'httpwwwdermaamincomsiteimagesclinicalpicLLichensimplexchronicusLichensimplexchronicus29jpg.jpg',\n",
    "    'httpwwwdermaamincomsiteimagesclinicalpicLLichensimplexchronicusLichensimplexchronicus21jpg.jpg',\n",
    "    'httpwwwdermaamincomsiteimagesclinicalpicLLichensimplexchronicusLichensimplexchronicus32jpg.jpg',\n",
    "    'httpwwwdermaamincomsiteimagesclinicalpicLLichensimplexchronicusLichensimplexchronicus23jpg.jpg',\n",
    "    'httpwwwdermaamincomsiteimagesclinicalpicLLichensimplexchronicusLichensimplexchronicus13jpg.jpg',\n",
    "    'httpwwwdermaamincomsiteimagesclinicalpicLLichensimplexchronicusLichensimplexchronicus9jpg.jpg',\n",
    "    'httpwwwdermaamincomsiteimagesclinicalpicLLichensimplexchronicusLichensimplexchronicus26jpg.jpg',\n",
    "    'httpwwwdermaamincomsiteimagesclinicalpicLLichensimplexchronicusLichensimplexchronicus14jpg.jpg',\n",
    "    'httpwwwdermaamincomsiteimagesclinicalpicLLichensimplexchronicusLichensimplexchronicus15jpg.jpg',\n",
    "    'httpwwwdermaamincomsiteimagesclinicalpicLLichensimplexchronicusLichensimplexchronicus8jpg.jpg',\n",
    "    'httpwwwdermaamincomsiteimagesclinicalpicLLichensimplexchronicusLichensimplexchronicus16jpg.jpg',\n",
    "    'httpwwwdermaamincomsiteimagesclinicalpicooralmucosalmelanomaoralmucosalmelanoma1jpg.jpg',\n",
    "    'httpwwwdermaamincomsiteimagesclinicalpicLLichensimplexchronicusLichensimplexchronicus7jpg.jpg',\n",
    "    'httpwwwdermaamincomsiteimagesclinicalpicLLichensimplexchronicusLichensimplexchronicus6jpg.jpg',\n",
    "    'httpwwwdermaamincomsiteimagesclinicalpicLLichensimplexchronicusLichensimplexchronicus5jpg.jpg',\n",
    "    'httpwwwdermaamincomsiteimagesclinicalpicLLichensimplexchronicusLichensimplexchronicus2jpg.jpg',\n",
    "    'httpwwwdermaamincomsiteimagesclinicalpicLLichensimplexchronicusLichensimplexchronicus12jpg.jpg',\n",
    "    'httpwwwdermaamincomsiteimagesclinicalpicLLichensimplexchronicusLichensimplexchronicus31jpg.jpg',\n",
    "    'httpwwwdermaamincomsiteimagesclinicalpicLLichensimplexchronicusLichensimplexchronicus33jpg.jpg',\n",
    "    'httpwwwdermaamincomsiteimageshistopicjjunctionnaevusjunctionnaevus2jpg.jpg',\n",
    "    'httpwwwdermaamincomsiteimagesclinicalpicLLichensimplexchronicusLichensimplexchronicus20jpg.jpg',\n",
    "    'httpwwwdermaamincomsiteimageshistopicjjunctionnaevusjunctionnaevus1jpg.jpg',\n",
    "    'httpwwwdermaamincomsiteimagesclinicalpicLLichensimplexchronicusLichensimplexchronicus25jpg.jpg',\n",
    "    'httpwwwdermaamincomsiteimagesclinicalpicLLichensimplexchronicusLichensimplexchronicus22jpg.jpg',\n",
    "]\n",
    "\n",
    "# can't access the images, maybe they are null for a reason...\n",
    "# does not work in upper/lower case, with dashes or underscores separating the disease names\n",
    "correct_url = [\n",
    "    'https://www.dermaamin.com/site/images/clinical-pic/l/lichen-simplex-chronicus/lichen-simplex-chronicus30.jpg',\n",
    "    'https://www.dermaamin.com/site/images/clinical-pic/o/oral_mucosal_melanoma/oral_mucosal_melanoma2.jpg',\n",
    "    'https://www.dermaamin.com/site/images/clinical-pic/L/Lichensimplexchronicus/Lichensimplexchronicus34.jpg',\n",
    "    'https://www.dermaamin.com/site/images/clinical-pic/L/Lichensimplexchronicus/Lichensimplexchronicus36.jpg',\n",
    "    'https://www.dermaamin.com/site/images/clinical-pic/o/oralmucosalmelanoma/oralmucosalmelanoma3.jpg',\n",
    "    'https://www.dermaamin.com/site/images/clinical-pic/L/Lichensimplexchronicus/Lichensimplexchronicus24.jpg',\n",
    "    'https://www.dermaamin.com/site/images/clinical-pic/L/Lichensimplexchronicus/Lichensimplexchronicus3.jpg',\n",
    "    'https://www.dermaamin.com/site/images/histo-pic/j/junctionnaevus/junctionnaevus3.jpg',\n",
    "    'https://www.dermaamin.com/site/images/clinical-pic/L/Lichensimplexchronicus/Lichensimplexchronicus11.jpg',\n",
    "    'https://www.dermaamin.com/site/images/clinical-pic/L/Lichensimplexchronicus/Lichensimplexchronicus35.jpg',\n",
    "    'https://www.dermaamin.com/site/images/clinical-pic/L/Lichensimplexchronicus/Lichensimplexchronicus18.jpg',\n",
    "    'https://www.dermaamin.com/site/images/clinical-pic/L/Lichensimplexchronicus/Lichensimplexchronicus10.jpg',\n",
    "    'https://www.dermaamin.com/site/images/clinical-pic/L/Lichensimplexchronicus/Lichensimplexchronicus28.jpg',\n",
    "    'https://www.dermaamin.com/site/images/clinical-pic/L/Lichensimplexchronicus/Lichensimplexchronicus19.jpg',\n",
    "    'https://www.dermaamin.com/site/images/clinical-pic/L/Lichensimplexchronicus/Lichensimplexchronicus27.jpg',\n",
    "    'https://www.dermaamin.com/site/images/clinical-pic/L/Lichensimplexchronicus/Lichensimplexchronicus4.jpg',\n",
    "    'https://www.dermaamin.com/site/images/clinical-pic/L/Lichensimplexchronicus/Lichensimplexchronicus1.jpg',\n",
    "    'https://www.dermaamin.com/site/images/clinical-pic/L/Lichensimplexchronicus/Lichensimplexchronicus29.jpg',\n",
    "    'https://www.dermaamin.com/site/images/clinical-pic/L/Lichensimplexchronicus/Lichensimplexchronicus21.jpg',\n",
    "    'https://www.dermaamin.com/site/images/clinical-pic/L/Lichensimplexchronicus/Lichensimplexchronicus32.jpg',\n",
    "    'https://www.dermaamin.com/site/images/clinical-pic/L/Lichensimplexchronicus/Lichensimplexchronicus23.jpg',\n",
    "    'https://www.dermaamin.com/site/images/clinical-pic/L/Lichensimplexchronicus/Lichensimplexchronicus13.jpg',\n",
    "    'https://www.dermaamin.com/site/images/clinical-pic/L/Lichensimplexchronicus/Lichensimplexchronicus9.jpg',\n",
    "    'https://www.dermaamin.com/site/images/clinical-pic/L/Lichensimplexchronicus/Lichensimplexchronicus26.jpg',\n",
    "    'https://www.dermaamin.com/site/images/clinical-pic/L/Lichensimplexchronicus/Lichensimplexchronicus14.jpg',\n",
    "    'https://www.dermaamin.com/site/images/clinical-pic/L/Lichensimplexchronicus/Lichensimplexchronicus15.jpg',\n",
    "    'https://www.dermaamin.com/site/images/clinical-pic/L/Lichensimplexchronicus/Lichensimplexchronicus8.jpg',\n",
    "    'https://www.dermaamin.com/site/images/clinical-pic/L/Lichensimplexchronicus/Lichensimplexchronicus16.jpg',\n",
    "    'https://www.dermaamin.com/site/images/clinical-pic/o/oralmucosalmelanoma/oralmucosalmelanoma1.jpg',\n",
    "    'https://www.dermaamin.com/site/images/clinical-pic/L/Lichensimplexchronicus/Lichensimplexchronicus7.jpg',\n",
    "    'https://www.dermaamin.com/site/images/clinical-pic/L/Lichensimplexchronicus/Lichensimplexchronicus6.jpg',\n",
    "    'https://www.dermaamin.com/site/images/clinical-pic/L/Lichensimplexchronicus/Lichensimplexchronicus5.jpg',\n",
    "    'https://www.dermaamin.com/site/images/clinical-pic/L/Lichensimplexchronicus/Lichensimplexchronicus2.jpg',\n",
    "    'https://www.dermaamin.com/site/images/clinical-pic/L/Lichensimplexchronicus/Lichensimplexchronicus12.jpg',\n",
    "    'https://www.dermaamin.com/site/images/clinical-pic/L/Lichensimplexchronicus/Lichensimplexchronicus31.jpg',\n",
    "    'https://www.dermaamin.com/site/images/clinical-pic/L/Lichensimplexchronicus/Lichensimplexchronicus33.jpg',\n",
    "    'https://www.dermaamin.com/site/images/histo-pic/j/junctionnaevus/junctionnaevus2.jpg',\n",
    "    'https://www.dermaamin.com/site/images/clinical-pic/L/Lichensimplexchronicus/Lichensimplexchronicus20.jpg',\n",
    "    'https://www.dermaamin.com/site/images/histo-pic/j/junctionnaevus/junctionnaevus1.jpg',\n",
    "    'https://www.dermaamin.com/site/images/clinical-pic/L/Lichensimplexchronicus/Lichensimplexchronicus25.jpg',\n",
    "    'https://www.dermaamin.com/site/images/clinical-pic/L/Lichensimplexchronicus/Lichensimplexchronicus22.jpg',\n",
    "]\n",
    "\n",
    "# NOTE: not possible to fix any"
   ]
  },
  {
   "cell_type": "markdown",
   "metadata": {},
   "source": [
    "#### **Removing nulls**<a id='remove_nulls'></a>"
   ]
  },
  {
   "cell_type": "code",
   "execution_count": 5,
   "metadata": {},
   "outputs": [
    {
     "name": "stdout",
     "output_type": "stream",
     "text": [
      "0\n"
     ]
    }
   ],
   "source": [
    "missingdata = rawdata.loc[rawdata['url'].isnull(), :].copy()  # will be useful later\n",
    "rawdata = rawdata.loc[rawdata['url'].notnull(), :]\n",
    "print(rawdata['url'].isnull().sum())"
   ]
  },
  {
   "cell_type": "markdown",
   "metadata": {},
   "source": [
    "#### **Storing in TF-allowed way**<a id='storing'></a>"
   ]
  },
  {
   "cell_type": "code",
   "execution_count": null,
   "metadata": {},
   "outputs": [],
   "source": [
    "# storing the data in a way that tf functions, such as image_dataset_from_directory can\n",
    "# can import the data\n",
    "\n",
    "def download_url(url):\n",
    "    # need to add user-agent othwerwise we get 406 error\n",
    "    # https://stackoverflow.com/questions/56101612/python-requests-http-response-406\n",
    "    response = requests.get(url, headers={'User-Agent': 'Mozilla'}) # get step takes the largest amount of time\n",
    "    image = Image.open(BytesIO(response.content))\n",
    "    return image\n",
    "\n",
    "def class_indexes(col: pd.Series, label: str):\n",
    "    return np.array(col.loc[col == label].index)\n",
    "\n",
    "X = rawdata[['md5hash', 'url']]\n",
    "y = rawdata['label']\n",
    "\n",
    "# for testing\n",
    "# n = 10\n",
    "# X = X.iloc[:n] \n",
    "# y = y.iloc[:n]\n",
    "\n",
    "error_images = []  # storing the URLs of the images that return an error\n",
    "\n",
    "progress_bar = tqdm(total=len(y),\n",
    "                    desc=f'Downloading images')\n",
    "\n",
    "image_dir = 'all-images'\n",
    "os.makedirs(os.path.join('data', image_dir))\n",
    "ulabels = np.unique(y)\n",
    "for ulabel in ulabels:\n",
    "    os.makedirs(os.path.join('data', image_dir, ulabel))\n",
    "    temp = X.loc[class_indexes(y, ulabel), :]\n",
    "    for hash_, url in temp.values:\n",
    "        try:\n",
    "            image = download_url(url)\n",
    "            image.save(os.path.join('data', image_dir, ulabel, f'{hash_}.jpg'))\n",
    "        except Exception as e:\n",
    "            print(f\"{e}: {url}\")\n",
    "            error_images.append(url)\n",
    "        progress_bar.update(1)\n",
    "progress_bar.clear()\n",
    "\n",
    "# also saving incorrect urls\n",
    "(pd.DataFrame({'url': error_images})\n",
    " .to_csv('data/error_url.csv', index=False))\n",
    "\n",
    "# 10 images have an error-inducing url meaning, we started\n",
    "# with 16577 rows in the fitzpatrick csv # 41 had null urls \n",
    "# and were removed and afterwards the aforementioned 10 others\n",
    "# have been due to error-prone urls. We were left with\n",
    "# 16577 - 41 - 10 = 16526 images\n",
    "# NOTE: DO NOT RUN, took about 7hr"
   ]
  },
  {
   "cell_type": "code",
   "execution_count": 3,
   "metadata": {},
   "outputs": [
    {
     "name": "stdout",
     "output_type": "stream",
     "text": [
      "No. of classes: 114\n",
      "No. of observations: 16526\n"
     ]
    }
   ],
   "source": [
    "# *********************************\n",
    "# Making sure everything is OK\n",
    "# *********************************\n",
    "\n",
    "images = []\n",
    "for dirpath, dirname, filename in os.walk(os.path.join('data', 'all-images')):\n",
    "    images += [os.path.join(dirpath, file) for file in filename]\n",
    "\n",
    "print(f\"No. of classes: {len(os.listdir(os.path.join('data', 'all-images')))}\")\n",
    "print(f\"No. of observations: {len(images)}\")"
   ]
  }
 ],
 "metadata": {
  "kernelspec": {
   "display_name": "Python 3 (ipykernel)",
   "language": "python",
   "name": "python3"
  },
  "language_info": {
   "codemirror_mode": {
    "name": "ipython",
    "version": 3
   },
   "file_extension": ".py",
   "mimetype": "text/x-python",
   "name": "python",
   "nbconvert_exporter": "python",
   "pygments_lexer": "ipython3",
   "version": "3.11.7"
  }
 },
 "nbformat": 4,
 "nbformat_minor": 4
}
